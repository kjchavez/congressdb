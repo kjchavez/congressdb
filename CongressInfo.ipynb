{
 "cells": [
  {
   "cell_type": "code",
   "execution_count": null,
   "metadata": {
    "collapsed": true
   },
   "outputs": [],
   "source": [
    "from congressdb import CongressDatabase, BillType, BillVersion\n",
    "\n",
    "cdb = CongressDatabase(\"/home/kevin/data/congress\")"
   ]
  },
  {
   "cell_type": "code",
   "execution_count": 31,
   "metadata": {
    "collapsed": true
   },
   "outputs": [],
   "source": [
    "# Let's start with Senate bills that were 'engrossed'\n",
    "bills = cdb.bill_text(bill_type=BillType.SENATE_BILL, version='is')\n",
    "\n",
    "senate_bills = {}\n",
    "for bill_id, bill_text in bills:\n",
    "    senate_bills[bill_id] = bill_text"
   ]
  },
  {
   "cell_type": "code",
   "execution_count": 32,
   "metadata": {
    "collapsed": true
   },
   "outputs": [],
   "source": [
    "# Some helper functions for analyzing subsets of the data\n",
    "import random\n",
    "import numpy as np\n",
    "\n",
    "def earliest_congress(ids):\n",
    "    congresses = set(int(x.split('-')[1].split('.')[0]) for x in ids)\n",
    "    return min(congresses)\n",
    "\n",
    "def stats(bills):\n",
    "    chars = 0\n",
    "    words = 0\n",
    "    for text in bills.values():\n",
    "        chars += len(text)\n",
    "        words += len(text.split())\n",
    "        \n",
    "    return {'chars': chars, 'words': words}\n",
    "\n",
    "def num_chars(text):\n",
    "    return len(text)\n",
    "\n",
    "def num_words(text):\n",
    "    return len(text.split())\n",
    "\n",
    "def sample_bill(bills):\n",
    "    return random.choice(bills.values())\n",
    "\n",
    "def quick_stats(vals):\n",
    "    stats = {}\n",
    "    stats['mean'] = np.mean(vals)\n",
    "    stats['max'] = np.max(vals)\n",
    "    stats['min'] = np.min(vals)\n",
    "    stats['std'] = np.std(vals)\n",
    "    return stats"
   ]
  },
  {
   "cell_type": "code",
   "execution_count": 33,
   "metadata": {
    "collapsed": false
   },
   "outputs": [
    {
     "name": "stdout",
     "output_type": "stream",
     "text": [
      "Num bills: 38141\n",
      "Earliest congress: 103\n",
      "Stats: {'chars': 694265125, 'words': 82993292}\n"
     ]
    }
   ],
   "source": [
    "print \"Num bills:\", len(senate_bills)\n",
    "print \"Earliest congress:\", earliest_congress(senate_bills.keys())\n",
    "print \"Stats:\", stats(senate_bills)"
   ]
  },
  {
   "cell_type": "code",
   "execution_count": 34,
   "metadata": {
    "collapsed": false
   },
   "outputs": [
    {
     "name": "stdout",
     "output_type": "stream",
     "text": [
      "{'std': 49595.304811050199, 'max': 1865761, 'min': 119, 'mean': 18202.593665609187}\n"
     ]
    }
   ],
   "source": [
    "# How long are these bills?\n",
    "import numpy as np\n",
    "lengths = [num_chars(text) for text in senate_bills.values()]\n",
    "print quick_stats(lengths)"
   ]
  },
  {
   "cell_type": "code",
   "execution_count": 36,
   "metadata": {
    "collapsed": false,
    "scrolled": false
   },
   "outputs": [
    {
     "name": "stdout",
     "output_type": "stream",
     "text": [
      "\n",
      "[Congressional Bills 109th Congress]\n",
      "[From the U.S. Government Printing Office]\n",
      "[S. 1800 Introduced in Senate (IS)]\n",
      "\n",
      "\n",
      "\n",
      "\n",
      "\n",
      "\n",
      "\n",
      "\n",
      "109th CONGRESS\n",
      "  1st Session\n",
      "                                S. 1800\n",
      "\n",
      " To amend the Internal Revenue Code of 1986 to extend the new markets \n",
      "                              tax credit.\n",
      "\n",
      "\n",
      "_______________________________________________________________________\n",
      "\n",
      "\n",
      "                   IN THE SENATE OF THE UNITED STATES\n",
      "\n",
      "                           September 29, 2005\n",
      "\n",
      " Ms. Snowe (for herself, Mr. Rockefeller, and Mr. Bunning) introduced \n",
      "the following bill; which was read twice and referred to the Committee \n",
      "                               on Finance\n",
      "\n",
      "_______________________________________________________________________\n",
      "\n",
      "                                 A BILL\n",
      "\n",
      "\n",
      " \n",
      " To amend the Internal Revenue Code of 1986 to extend the new markets \n",
      "                              tax credit.\n",
      "\n",
      "    Be it enacted by the Senate and House of Representatives of the \n",
      "United States of America in Congress assembled,\n",
      "\n",
      "SECTION 1. SHORT TITLE.\n",
      "\n",
      "    This Act may be cited as the ``New Markets Tax Credit \n",
      "Reauthorization Act of 2005''.\n",
      "\n",
      "SEC. 2. EXTENSION OF NEW MARKETS TAX CREDIT.\n",
      "\n",
      "    (a) Extension.--\n",
      "            (1) In general.--Paragraph (1) of section 45D(f) of the \n",
      "        Internal Revenue Code of 1986 (relating to new markets tax \n",
      "        credit) is amended to read as follows:\n",
      "            ``(1) In general.--There is a new markets tax credit \n",
      "        limitation of $3,500,000,000 for each of calendar years 2008 \n",
      "        through 2012.''.\n",
      "            (2) Conforming amendment.--Paragraph (3) of section 45D(f) \n",
      "        of such Code is amended by striking ``2014'' and inserting \n",
      "        ``2019''.\n",
      "    (b) Inflation Adjustment.--Subsection (f) of section 45D of such \n",
      "Code is amended by inserting at the end the following new paragraph:\n",
      "            ``(4) Inflation adjustment.--\n",
      "                    ``(A) In general.--In the case of any calendar year \n",
      "                beginning after 2008, the dollar amount in paragraph \n",
      "                (1) shall be increased by an amount equal to--\n",
      "                            ``(i) such dollar amount, multiplied by\n",
      "                            ``(ii) the cost-of-living adjustment \n",
      "                        determined under section 1(f)(3) for the \n",
      "                        calendar year, determined by substituting \n",
      "                        `calendar year 2007' for `calendar year 1992' \n",
      "                        in subparagraph (B) thereof.\n",
      "                    ``(B) Rounding rule.--If a dollar amount in \n",
      "                paragraph (1), as increased under subparagraph (A), is \n",
      "                not a multiple of $1,000,000, such amount shall be \n",
      "                rounded to the nearest multiple of $1,000,000.''.\n",
      "    (c) Effective Date.--The amendments made by this section shall \n",
      "apply to taxable years beginning after December 31, 2007.\n",
      "                                 <all>\n",
      "\n"
     ]
    }
   ],
   "source": [
    "print sample_bill(senate_bills)"
   ]
  }
 ],
 "metadata": {
  "kernelspec": {
   "display_name": "Python 2",
   "language": "python",
   "name": "python2"
  },
  "language_info": {
   "codemirror_mode": {
    "name": "ipython",
    "version": 2
   },
   "file_extension": ".py",
   "mimetype": "text/x-python",
   "name": "python",
   "nbconvert_exporter": "python",
   "pygments_lexer": "ipython2",
   "version": "2.7.6"
  }
 },
 "nbformat": 4,
 "nbformat_minor": 0
}
